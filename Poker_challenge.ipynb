{
 "cells": [
  {
   "cell_type": "markdown",
   "metadata": {},
   "source": [
    "## Poker Hand\n",
    "\n",
    "> \"Ah\" ➞ Ace of hearts <br>\n",
    "> \"Ks\" ➞ King of spades<br>\n",
    "> \"3d\" ➞ Three of diamonds<br>\n",
    "> \"Qc\" ➞ Queen of clubs <br>\n",
    "\n",
    "There are 10 different combinations. Here's the list, in decreasing order of importance:"
   ]
  },
  {
   "cell_type": "markdown",
   "metadata": {},
   "source": [
    "| Name            | Description                                         |\n",
    "|-----------------|-----------------------------------------------------|\n",
    "| Royal Flush     | A, K, Q, J, 10, all with the same suit.             |\n",
    "| Straight Flush  | Five cards in sequence, all with the same suit.     |\n",
    "| Four of a Kind  | Four cards of the same rank.                        |\n",
    "| Full House      | Three of a Kind with a Pair.                        |\n",
    "| Flush           | Any five cards of the same suit, not in sequence    |\n",
    "| Straight        | Five cards in a sequence, but not of the same suit. |\n",
    "| Three of a Kind | Three cards of the same rank.                       |\n",
    "| Two Pair        | Two different Pairs.                                |\n",
    "| Pair            | Two cards of the same rank.                         |\n",
    "| High Card       | No other valid combination.                         |"
   ]
  },
  {
   "cell_type": "markdown",
   "metadata": {},
   "source": [
    "### 1. Given a list `hand` containing five strings being the cards, implement a function `poker_hand_ranking` that returns a string with the name of the **highest** combination obtained, accordingly to the table above.\n",
    "\n",
    "#### Examples\n",
    "\n",
    "> poker_hand_ranking([\"10h\", \"Jh\", \"Qh\", \"Ah\", \"Kh\"]) ➞ \"Royal Flush\"<br>\n",
    "> poker_hand_ranking([\"3h\", \"5h\", \"Qs\", \"9h\", \"Ad\"]) ➞ \"High Card\"<br>\n",
    "> poker_hand_ranking([\"10s\", \"10c\", \"8d\", \"10d\", \"10h\"]) ➞ \"Four of a Kind\"<br>"
   ]
  },
  {
   "cell_type": "code",
   "execution_count": 1,
   "metadata": {},
   "outputs": [],
   "source": [
    "from collections import Counter\n",
    "def poker_hand_ranking(hand):\n",
    "    # Set Up -> S/O Jay Cochrane for the help\n",
    "    # Split Suits and Rank\n",
    "    suits = [card[-1] for card in hand]\n",
    "    ranks = [card[:-1] for card in hand]\n",
    "    ranks_order = []\n",
    "    straight = False\n",
    "    flush = False\n",
    "    four_kind = False\n",
    "    three_kind = False\n",
    "    pair_count = 0\n",
    "    \n",
    "    # Convert J,Q,K,A to 11-14\n",
    "    for face in ranks:\n",
    "        if face == 'J':\n",
    "            ranks_order.append(11)\n",
    "        elif face == 'Q':\n",
    "            ranks_order.append(12)\n",
    "        elif face == 'K':\n",
    "            ranks_order.append(13)\n",
    "        elif face == 'A':\n",
    "            ranks_order.append(14)\n",
    "        else:\n",
    "            ranks_order.append(int(face))\n",
    "            \n",
    "\n",
    "    # Sort the rankings\n",
    "    ranks_order.sort()\n",
    "    \n",
    "    # Check for straights and flushes\n",
    "    if len(set(suits)) == 1:\n",
    "        flush = True\n",
    "    if len(set(ranks_order)) == 5 and ranks_order[0] + 4 == ranks_order[4]:\n",
    "        straight = True \n",
    "        \n",
    "    # Check for pairs, 3-kind, 4-kind\n",
    "    count_rank = Counter(ranks_order)\n",
    "    for key in count_rank:\n",
    "        if count_rank[key] == 2:\n",
    "            pair_count +=1\n",
    "        elif count_rank[key] == 3:\n",
    "            three_kind = True\n",
    "        elif count_rank[key] == 4:\n",
    "            four_kind = True\n",
    "            \n",
    "  \n",
    "    \n",
    "    # Reveal Ranking \n",
    "    if ranks_order[0] == 10 and flush and straight:\n",
    "        return \"Royal Flush\"\n",
    "    elif flush and straight:\n",
    "        return \"Straight Flush\"\n",
    "    elif four_kind:\n",
    "        return \"Four of a kind\"\n",
    "    elif three_kind and pair_count == 1:\n",
    "        return \"Full House\"\n",
    "    elif flush:\n",
    "        return \"Flush\"\n",
    "    elif straight:\n",
    "        return \"Straight\"\n",
    "    elif three_kind:\n",
    "        return \"Three of a kind\"\n",
    "    elif pair_count == 2:\n",
    "        return \"Two pair\"\n",
    "    elif pair_count == 1:\n",
    "        return \"One Pair\"\n",
    "    else:\n",
    "        return \"High Card\"         "
   ]
  },
  {
   "cell_type": "code",
   "execution_count": 2,
   "metadata": {},
   "outputs": [
    {
     "name": "stdout",
     "output_type": "stream",
     "text": [
      "Royal Flush : Royal Flush\n",
      "Straight Flush : Straight Flush\n",
      "Four of a Kind : Four of a kind\n",
      "Full House : Full House\n",
      "Flush : Flush\n",
      "Straight : Straight\n",
      "Three of a Kind : Three of a kind\n",
      "Two Pair : Two pair\n",
      "Pair : One Pair\n",
      "High Card : High Card\n"
     ]
    }
   ],
   "source": [
    "print(\"Royal Flush : \" + poker_hand_ranking([\"10h\", \"Jh\", \"Qh\", \"Ah\", \"Kh\"]))\n",
    "print(\"Straight Flush : \" + poker_hand_ranking([\"9h\", \"10h\", \"11h\", \"12h\", \"13h\"]))\n",
    "print(\"Four of a Kind : \" + poker_hand_ranking([\"10s\", \"10c\", \"10d\", \"10d\", \"9h\"]))\n",
    "print(\"Full House : \" + poker_hand_ranking([\"9h\", \"9c\", \"9s\", \"10d\", \"10h\"]))\n",
    "print(\"Flush : \" + poker_hand_ranking([\"2h\", \"4h\", \"6h\", \"8h\", \"10h\"]))\n",
    "print(\"Straight : \" + poker_hand_ranking([\"2h\", \"3d\", \"4s\", \"5h\", \"6c\"]))\n",
    "print(\"Three of a Kind : \" + poker_hand_ranking([\"2h\", \"2d\", \"2s\", \"5h\", \"6c\"]))\n",
    "print(\"Two Pair : \" + poker_hand_ranking([\"2h\", \"2d\", \"5s\", \"5h\", \"10c\"]))\n",
    "print(\"Pair : \" + poker_hand_ranking([\"8h\", \"8d\", \"4s\", \"5h\", \"6c\"]))\n",
    "print(\"High Card : \" + poker_hand_ranking([\"3h\", \"5h\", \"Qs\", \"9h\", \"Ad\"]))"
   ]
  },
  {
   "cell_type": "markdown",
   "metadata": {},
   "source": [
    "### 2.  Implement a function `winner_is` that returns the winner given a dictionary with different players and their hands. For example:\n",
    "\n",
    "#### Example\n",
    "\n",
    "We define dictionary like\n",
    "```\n",
    "round_1 = {\"John\" = [\"10h\", \"Jh\", \"Qh\", \"Ah\", \"Kh\"], \n",
    "        \"Peter\" = [\"3h\", \"5h\", \"Qs\", \"9h\", \"Ad\"]\n",
    "}\n",
    "```\n",
    "\n",
    "Our function returns the name of the winner:\n",
    "> winner_is(round_1) -> \"John\"\n",
    "\n",
    "One table can have up to 10 players.\n"
   ]
  },
  {
   "cell_type": "code",
   "execution_count": 3,
   "metadata": {},
   "outputs": [],
   "source": [
    "table = {'John' : [\"1h\", \"2h\", \"3h\", \"4h\", \"5d\"] , 'Peter' : [\"3h\", \"3h\", \"Qs\", \"9h\", \"Ad\"]}"
   ]
  },
  {
   "cell_type": "code",
   "execution_count": 4,
   "metadata": {},
   "outputs": [],
   "source": [
    "def winner_is(table):\n",
    "    # First Step is define the ranking \n",
    "    ranking = ['Royal Flush','Straight Flush','Four of a kind','Full House',\n",
    "               'Flush','Straight','Three of a kind','Two Pair','One Pair','High Card']\n",
    "    ranking_reveal = []\n",
    "    \n",
    "    # Rank by index\n",
    "    for player in table.keys():\n",
    "        ranking_reveal.append(ranking.index(poker_hand_ranking(table[player])))\n",
    "        \n",
    "    temp = min(ranking_reveal)  \n",
    "    res = [i for i, j in enumerate(ranking_reveal) if j == temp]\n",
    "    \n",
    "    return list(table.keys())[res[0]]      "
   ]
  },
  {
   "cell_type": "code",
   "execution_count": 5,
   "metadata": {},
   "outputs": [
    {
     "data": {
      "text/plain": [
       "'John'"
      ]
     },
     "execution_count": 5,
     "metadata": {},
     "output_type": "execute_result"
    }
   ],
   "source": [
    "winner_is(table)"
   ]
  },
  {
   "cell_type": "code",
   "execution_count": null,
   "metadata": {},
   "outputs": [],
   "source": []
  }
 ],
 "metadata": {
  "kernelspec": {
   "display_name": "Python 3",
   "language": "python",
   "name": "python3"
  },
  "language_info": {
   "codemirror_mode": {
    "name": "ipython",
    "version": 3
   },
   "file_extension": ".py",
   "mimetype": "text/x-python",
   "name": "python",
   "nbconvert_exporter": "python",
   "pygments_lexer": "ipython3",
   "version": "3.7.6"
  }
 },
 "nbformat": 4,
 "nbformat_minor": 4
}
